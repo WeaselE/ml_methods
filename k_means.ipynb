{
 "cells": [
  {
   "cell_type": "code",
   "execution_count": 2,
   "metadata": {},
   "outputs": [],
   "source": [
    "from sklearn.cluster import k_means\n",
    "from sklearn.model_selection import train_test_split\n",
    "import numpy as np\n",
    "import pandas as pd\n",
    "import matplotlib.pyplot as plt"
   ]
  },
  {
   "cell_type": "code",
   "execution_count": 3,
   "metadata": {},
   "outputs": [],
   "source": [
    "X = np.random.normal(10,2,100)\n",
    "X_train, X_test = train_test_split(X)"
   ]
  },
  {
   "cell_type": "code",
   "execution_count": 4,
   "metadata": {},
   "outputs": [
    {
     "data": {
      "text/plain": [
       "(array([ 4.,  9., 16.,  6., 24., 17., 14.,  8.,  1.,  1.]),\n",
       " array([ 6.0555796 ,  6.98874613,  7.92191266,  8.85507919,  9.78824571,\n",
       "        10.72141224, 11.65457877, 12.5877453 , 13.52091183, 14.45407835,\n",
       "        15.38724488]),\n",
       " <BarContainer object of 10 artists>)"
      ]
     },
     "execution_count": 4,
     "metadata": {},
     "output_type": "execute_result"
    },
    {
     "data": {
      "image/png": "[encoded data removed]",
      "text/plain": [
       "<Figure size 432x288 with 1 Axes>"
      ]
     },
     "metadata": {
      "needs_background": "light"
     },
     "output_type": "display_data"
    }
   ],
   "source": [
    "plt.hist(X)"
   ]
  },
  {
   "cell_type": "code",
   "execution_count": 29,
   "metadata": {},
   "outputs": [],
   "source": [
    "results = []\n",
    "for n in range(1,26):\n",
    "    model = k_means(X.reshape(-1,1),n_clusters=n)\n",
    "    results.append(model[0][0][0])"
   ]
  },
  {
   "cell_type": "code",
   "execution_count": 32,
   "metadata": {},
   "outputs": [
    {
     "data": {
      "text/plain": [
       "<matplotlib.collections.PathCollection at 0x1f8a4536110>"
      ]
     },
     "execution_count": 32,
     "metadata": {},
     "output_type": "execute_result"
    },
    {
     "data": {
      "image/png": "[encoded data removed]",
      "text/plain": [
       "<Figure size 432x288 with 1 Axes>"
      ]
     },
     "metadata": {
      "needs_background": "light"
     },
     "output_type": "display_data"
    }
   ],
   "source": [
    "plt.scatter(np.arange(25),results)"
   ]
  },
  {
   "cell_type": "code",
   "execution_count": 34,
   "metadata": {},
   "outputs": [
    {
     "name": "stdout",
     "output_type": "stream",
     "text": [
      "0\t10.234028533221709\n",
      "1\t8.132272270718374\n",
      "2\t12.611293242452556\n",
      "3\t11.823854958641952\n",
      "4\t7.120811420033826\n",
      "5\t7.120811420033826\n",
      "6\t12.187163074091034\n",
      "7\t12.187163074091034\n",
      "8\t11.078997830953293\n",
      "9\t10.15958717640317\n",
      "10\t10.083916395634073\n",
      "11\t10.671052615545735\n",
      "12\t12.349140342701027\n",
      "13\t7.40330016116042\n",
      "14\t7.465528466897166\n",
      "15\t9.92979622504293\n",
      "16\t9.92979622504293\n",
      "17\t9.92979622504293\n",
      "18\t11.186601157041217\n",
      "19\t12.201979079890826\n",
      "20\t9.92979622504293\n",
      "21\t7.8762476572516835\n",
      "22\t9.834823117655416\n",
      "23\t12.496301605511228\n",
      "24\t10.559540969967598\n"
     ]
    }
   ],
   "source": [
    "for i,r in enumerate(results):\n",
    "    print(f'{i}\\t{r}')"
   ]
  },
  {
   "cell_type": "code",
   "execution_count": null,
   "metadata": {},
   "outputs": [],
   "source": []
  }
 ],
 "metadata": {
  "kernelspec": {
   "display_name": "Python 3.10.2 64-bit",
   "language": "python",
   "name": "python3"
  },
  "language_info": {
   "codemirror_mode": {
    "name": "ipython",
    "version": 3
   },
   "file_extension": ".py",
   "mimetype": "text/x-python",
   "name": "python",
   "nbconvert_exporter": "python",
   "pygments_lexer": "ipython3",
   "version": "3.10.2"
  },
  "orig_nbformat": 4,
  "vscode": {
   "interpreter": {
    "hash": "26de051ba29f2982a8de78e945f0abaf191376122a1563185a90213a26c5da77"
   }
  }
 },
 "nbformat": 4,
 "nbformat_minor": 2
}
