{
 "cells": [
  {
   "cell_type": "code",
   "execution_count": 7,
   "metadata": {},
   "outputs": [],
   "source": [
    "from sklearn.cluster import k_means\n",
    "from sklearn.model_selection import train_test_split\n",
    "import numpy as np\n",
    "import pandas as pd\n",
    "import matplotlib.pyplot as plt\n"
   ]
  },
  {
   "cell_type": "code",
   "execution_count": 8,
   "metadata": {},
   "outputs": [],
   "source": [
    "X = np.random.normal(10, 2, 100)\n",
    "X_train, X_test = train_test_split(X)"
   ]
  },
  {
   "cell_type": "code",
   "execution_count": 9,
   "metadata": {},
   "outputs": [
    {
     "data": {
      "text/plain": [
       "(array([ 2.,  8., 16., 26., 21., 13.,  6.,  5.,  2.,  1.]),\n",
       " array([ 5.50831823,  6.52263243,  7.53694662,  8.55126082,  9.56557502,\n",
       "        10.57988922, 11.59420342, 12.60851762, 13.62283182, 14.63714602,\n",
       "        15.65146022]),\n",
       " <BarContainer object of 10 artists>)"
      ]
     },
     "execution_count": 9,
     "metadata": {},
     "output_type": "execute_result"
    },
    {
     "data": {
      "image/png": "[encoded data removed]",
      "text/plain": [
       "<Figure size 432x288 with 1 Axes>"
      ]
     },
     "metadata": {
      "needs_background": "light"
     },
     "output_type": "display_data"
    }
   ],
   "source": [
    "plt.hist(X)\n"
   ]
  },
  {
   "cell_type": "code",
   "execution_count": 10,
   "metadata": {},
   "outputs": [],
   "source": [
    "results = []\n",
    "for n in range(1, 26):\n",
    "    model = k_means(X.reshape(-1, 1), n_clusters=n)\n",
    "    results.append(model[0][0][0])"
   ]
  },
  {
   "cell_type": "code",
   "execution_count": 11,
   "metadata": {},
   "outputs": [
    {
     "data": {
      "text/plain": [
       "<matplotlib.collections.PathCollection at 0x24999733ca0>"
      ]
     },
     "execution_count": 11,
     "metadata": {},
     "output_type": "execute_result"
    },
    {
     "data": {
      "image/png": "[encoded data removed]",
      "text/plain": [
       "<Figure size 432x288 with 1 Axes>"
      ]
     },
     "metadata": {
      "needs_background": "light"
     },
     "output_type": "display_data"
    }
   ],
   "source": [
    "plt.scatter(np.arange(25), results)"
   ]
  },
  {
   "cell_type": "code",
   "execution_count": 12,
   "metadata": {},
   "outputs": [
    {
     "name": "stdout",
     "output_type": "stream",
     "text": [
      "0\t9.691320892147884\n",
      "1\t8.637087587668981\n",
      "2\t9.810395471084654\n",
      "3\t10.74630035327299\n",
      "4\t10.86575924856027\n",
      "5\t8.501096438285574\n",
      "6\t8.725369686648628\n",
      "7\t8.725369686648628\n",
      "8\t8.293120673727877\n",
      "9\t9.705217938031483\n",
      "10\t9.705217938031483\n",
      "11\t9.43327831079186\n",
      "12\t8.9332901898075\n",
      "13\t12.343710284132246\n",
      "14\t8.233977058737132\n",
      "15\t7.766393535168868\n",
      "16\t13.123744840878075\n",
      "17\t9.507560427215067\n",
      "18\t10.617590683161142\n",
      "19\t7.308305613573302\n",
      "20\t6.737537116476697\n",
      "21\t10.103916450273317\n",
      "22\t8.747717570647636\n",
      "23\t9.80170126319146\n",
      "24\t9.819127188891782\n"
     ]
    }
   ],
   "source": [
    "for i, r in enumerate(results):\n",
    "    print(f\"{i}\\t{r}\")"
   ]
  },
  {
   "cell_type": "code",
   "execution_count": null,
   "metadata": {},
   "outputs": [],
   "source": []
  }
 ],
 "metadata": {
  "kernelspec": {
   "display_name": "Python 3.10.6 ('sklearn-env')",
   "language": "python",
   "name": "python3"
  },
  "language_info": {
   "codemirror_mode": {
    "name": "ipython",
    "version": 3
   },
   "file_extension": ".py",
   "mimetype": "text/x-python",
   "name": "python",
   "nbconvert_exporter": "python",
   "pygments_lexer": "ipython3",
   "version": "3.10.6"
  },
  "orig_nbformat": 4,
  "vscode": {
   "interpreter": {
    "hash": "45fc59574a2a6c1cf249cb7c0580ecb1a4eb952d9bac4283df1ffbc58680e345"
   }
  }
 },
 "nbformat": 4,
 "nbformat_minor": 2
}
